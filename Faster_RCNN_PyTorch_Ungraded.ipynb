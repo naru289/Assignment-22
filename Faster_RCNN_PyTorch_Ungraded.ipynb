{
  "nbformat": 4,
  "nbformat_minor": 0,
  "metadata": {
    "colab": {
      "provenance": [],
      "gpuType": "T4",
      "include_colab_link": true
    },
    "kernelspec": {
      "name": "python3",
      "display_name": "Python 3"
    },
    "language_info": {
      "name": "python"
    },
    "accelerator": "GPU"
  },
  "cells": [
    {
      "cell_type": "markdown",
      "metadata": {
        "id": "view-in-github",
        "colab_type": "text"
      },
      "source": [
        "<a href=\"https://colab.research.google.com/github/naru289/Assignment-22/blob/main/Faster_RCNN_PyTorch_Ungraded.ipynb\" target=\"_parent\"><img src=\"https://colab.research.google.com/assets/colab-badge.svg\" alt=\"Open In Colab\"/></a>"
      ]
    },
    {
      "cell_type": "code",
      "execution_count": null,
      "metadata": {
        "id": "YIE6UNFzQ87U"
      },
      "outputs": [],
      "source": [
        "# Import necessary libraries\n",
        "from PIL import Image\n",
        "import matplotlib.pyplot as plt\n",
        "import torch\n",
        "import torchvision.transforms as T\n",
        "import torchvision\n",
        "import torch\n",
        "import numpy as np\n",
        "import cv2\n",
        "import os"
      ]
    },
    {
      "cell_type": "markdown",
      "source": [
        "### Loading the ResNet50 Pretrained Model"
      ],
      "metadata": {
        "id": "qT0hthKIT22a"
      }
    },
    {
      "cell_type": "code",
      "source": [
        "# get the pretrained model from torchvision.models\n",
        "# Note: pretrained=True will get the pretrained weights for the model.\n",
        "# model.eval() to use the model for inference\n",
        "model = torchvision.models.detection.fasterrcnn_resnet50_fpn(pretrained=True)\n",
        "model.eval()"
      ],
      "metadata": {
        "id": "GtxiCF0lTtnm"
      },
      "execution_count": null,
      "outputs": []
    },
    {
      "cell_type": "markdown",
      "source": [
        "### Getting the class labels(COCO dataset) for the pretrained model"
      ],
      "metadata": {
        "id": "_E0hTNbhT9mQ"
      }
    },
    {
      "cell_type": "code",
      "source": [
        "# Class labels from official PyTorch documentation for the pretrained model\n",
        "# Note that there are some N/A's\n",
        "# for complete list check https://tech.amikelive.com/node-718/what-object-categories-labels-are-in-coco-dataset/\n",
        "\n",
        "COCO_INSTANCE_CATEGORY_NAMES = [\n",
        "    '__background__', 'person', 'bicycle', 'car', 'motorcycle', 'airplane', 'bus',\n",
        "    'train', 'truck', 'boat', 'traffic light', 'fire hydrant', 'N/A', 'stop sign',\n",
        "    'parking meter', 'bench', 'bird', 'cat', 'dog', 'horse', 'sheep', 'cow',\n",
        "    'elephant', 'bear', 'zebra', 'giraffe', 'N/A', 'backpack', 'umbrella', 'N/A', 'N/A',\n",
        "    'handbag', 'tie', 'suitcase', 'frisbee', 'skis', 'snowboard', 'sports ball',\n",
        "    'kite', 'baseball bat', 'baseball glove', 'skateboard', 'surfboard', 'tennis racket',\n",
        "    'bottle', 'N/A', 'wine glass', 'cup', 'fork', 'knife', 'spoon', 'bowl',\n",
        "    'banana', 'apple', 'sandwich', 'orange', 'broccoli', 'carrot', 'hot dog', 'pizza',\n",
        "    'donut', 'cake', 'chair', 'couch', 'potted plant', 'bed', 'N/A', 'dining table',\n",
        "    'N/A', 'N/A', 'toilet', 'N/A', 'tv', 'laptop', 'mouse', 'remote', 'keyboard', 'cell phone',\n",
        "    'microwave', 'oven', 'toaster', 'sink', 'refrigerator', 'N/A', 'book',\n",
        "    'clock', 'vase', 'scissors', 'teddy bear', 'hair drier', 'toothbrush'\n",
        "]"
      ],
      "metadata": {
        "id": "bUQ4JsjPTwPm"
      },
      "execution_count": null,
      "outputs": []
    },
    {
      "cell_type": "markdown",
      "source": [
        "The below function is to get the prediction for a given image. It accepts two parameters- image path and a threshold value. If the score obtained is greater than a certain threshold than a box is drawn on the image for that particular entity."
      ],
      "metadata": {
        "id": "ZeAZroKHUZuW"
      }
    },
    {
      "cell_type": "code",
      "source": [
        "# Functions to run inference on the image and display the output bounding boxes on the image.\n",
        "def get_prediction(img_path, threshold):\n",
        "    \"\"\"\n",
        "    parameters:\n",
        "      - img_path - path of the input image\n",
        "      - threshold - threshold value for prediction score\n",
        "    method:\n",
        "      - Image obtained from image path\n",
        "      - Image converted to image tensor using PyTorch's Transforms\n",
        "      - Image passed through model to get predictions\n",
        "      - class, box coordinates are obtained, but only prediction score > threshold\n",
        "        are chosen.\n",
        "\n",
        "    \"\"\"\n",
        "    img = Image.open(img_path)\n",
        "    transform = T.Compose([T.ToTensor()])\n",
        "    img = transform(img)\n",
        "    pred = model([img])\n",
        "    pred_class = [COCO_INSTANCE_CATEGORY_NAMES[i] for i in list(pred[0]['labels'].numpy())]\n",
        "    pred_boxes = [[(i[0], i[1]), (i[2], i[3])] for i in list(pred[0]['boxes'].detach().numpy())]\n",
        "    pred_score = list(pred[0]['scores'].detach().numpy())\n",
        "    pred_t = [pred_score.index(x) for x in pred_score if x>threshold][-1]\n",
        "    pred_boxes = pred_boxes[:pred_t+1]\n",
        "    pred_class = pred_class[:pred_t+1]\n",
        "    return pred_boxes, pred_class"
      ],
      "metadata": {
        "id": "Geku1D-TRgOO"
      },
      "execution_count": null,
      "outputs": []
    },
    {
      "cell_type": "markdown",
      "source": [
        "The below function is used for getting the predictions using the pre-trained model. The parameters are image path, threshold value, thickness of the box to be drawn, text size and thickness of text."
      ],
      "metadata": {
        "id": "tPK0Z8DDUvfM"
      }
    },
    {
      "cell_type": "code",
      "source": [
        "# Getting prediction using pretrained Faster-RCNN ResNet-50 model\n",
        "def object_detection_api(img_path, threshold=0.5, rect_th=3, text_size=3, text_th=3):\n",
        "    \"\"\"\n",
        "    object_detection_api\n",
        "    parameters:\n",
        "        - img_path - path of the input image\n",
        "        - threshold - threshold value for prediction score\n",
        "        - rect_th - thickness of bounding box\n",
        "        - text_size - size of the class label text\n",
        "        - text_th - thickness of the text\n",
        "    method:\n",
        "        - prediction is obtained from get_prediction method\n",
        "        - for each prediction, bounding box is drawn and text is written\n",
        "          with opencv\n",
        "        - the final image is displayed\n",
        "    \"\"\"\n",
        "    boxes, pred_cls = get_prediction(img_path, threshold)\n",
        "    img = cv2.imread(img_path)\n",
        "    img = cv2.cvtColor(img, cv2.COLOR_BGR2RGB)\n",
        "    for i in range(len(boxes)):\n",
        "        pt1 = (int(boxes[i][0][0]), int(boxes[i][0][1]))  # Convert coordinates to integers\n",
        "        pt2 = (int(boxes[i][1][0]), int(boxes[i][1][1]))  # Convert coordinates to integers\n",
        "        cv2.rectangle(img, pt1, pt2, color=(0, 255, 0), thickness=rect_th)\n",
        "        cv2.putText(img, pred_cls[i], pt1, cv2.FONT_HERSHEY_SIMPLEX, text_size, (0, 255, 0), thickness=text_th)\n",
        "    plt.figure(figsize=(20, 30))\n",
        "    plt.imshow(img)\n",
        "    plt.xticks([])\n",
        "    plt.yticks([])\n",
        "    plt.show()"
      ],
      "metadata": {
        "id": "xwuU_K7rRhDR"
      },
      "execution_count": null,
      "outputs": []
    },
    {
      "cell_type": "markdown",
      "source": [
        "Now, we download an image for the inference purpose. After saving the image, we pass it to the object_detection_api function to get the required image with objects detected on it."
      ],
      "metadata": {
        "id": "bSCKTEk_U85Q"
      }
    },
    {
      "cell_type": "code",
      "source": [
        "# download an image for inference\n",
        "!wget https://www.wsha.org/wp-content/uploads/banner-diverse-group-of-people-2.jpg -O people.jpg\n",
        "\n",
        "# use the api pipeline for object detection\n",
        "# the threshold is set manually, the model sometimes predicts\n",
        "# random structures as a potential object, so we set a threshold to keep objects\n",
        "# with better prediction scores.\n",
        "object_detection_api('./people.jpg', threshold=0.8)"
      ],
      "metadata": {
        "id": "VbERZm-HU5UG"
      },
      "execution_count": null,
      "outputs": []
    },
    {
      "cell_type": "code",
      "source": [
        "# Downloading image for inference\n",
        "!wget https://images2.minutemediacdn.com/image/upload/c_crop,h_706,w_1256,x_0,y_64/f_auto,q_auto,w_1100/v1554995050/shape/mentalfloss/516438-istock-637689912.jpg -O test.jpg\n",
        "object_detection_api('./test.jpg', threshold=0.8)"
      ],
      "metadata": {
        "id": "mdBrV6oQRmv-"
      },
      "execution_count": null,
      "outputs": []
    },
    {
      "cell_type": "code",
      "source": [
        "!wget https://images.unsplash.com/photo-1458169495136-854e4c39548a -O traffic_scene2.jpg\n",
        "object_detection_api('./traffic_scene2.jpg', rect_th=15, text_th=7, text_size=5, threshold=0.8)"
      ],
      "metadata": {
        "id": "PMWFR9HiTXLF"
      },
      "execution_count": null,
      "outputs": []
    }
  ]
}